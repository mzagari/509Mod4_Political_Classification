{
 "cells": [
  {
   "cell_type": "markdown",
   "metadata": {},
   "source": [
    "## Naive Bayes on Political Text\n",
    "\n",
    "In this notebook we use Naive Bayes to explore and classify political data. See the `README.md` for full details."
   ]
  },
  {
   "cell_type": "code",
   "execution_count": 37,
   "metadata": {},
   "outputs": [],
   "source": [
    "import sqlite3\n",
    "import nltk\n",
    "import random\n",
    "import numpy as np\n",
    "import pandas as pd\n",
    "\n",
    "from collections import Counter, defaultdict\n",
    "\n",
    "# Feel free to include your text patterns functions\n",
    "#from text_functions_solutions import clean_tokenize, get_patterns"
   ]
  },
  {
   "cell_type": "markdown",
   "metadata": {},
   "source": [
    "### Import Additional Libraries and Functions"
   ]
  },
  {
   "cell_type": "code",
   "execution_count": 38,
   "metadata": {},
   "outputs": [],
   "source": [
    "import string\n",
    "import html\n",
    "import regex as re\n",
    "\n",
    "from nltk.corpus import stopwords\n",
    "from string import punctuation"
   ]
  },
  {
   "cell_type": "markdown",
   "metadata": {},
   "source": [
    "### Connect to Data"
   ]
  },
  {
   "cell_type": "code",
   "execution_count": 39,
   "metadata": {},
   "outputs": [
    {
     "data": {
      "text/plain": [
       "<sqlite3.Cursor at 0x17e7ba76d50>"
      ]
     },
     "execution_count": 39,
     "metadata": {},
     "output_type": "execute_result"
    }
   ],
   "source": [
    "convention_db = sqlite3.connect(\"C:/Users/drzag/pol_class/2020_Conventions.db\")\n",
    "convention_cur = convention_db.cursor()\n",
    "convention_cur"
   ]
  },
  {
   "cell_type": "markdown",
   "metadata": {},
   "source": [
    "### Part 1: Exploratory Naive Bayes\n",
    "\n",
    "We'll first build a NB model on the convention data itself, as a way to understand what words distinguish between the two parties. This is analogous to what we did in the \"Comparing Groups\" class work. First, pull in the text \n",
    "for each party and prepare it for use in Naive Bayes.  "
   ]
  },
  {
   "cell_type": "code",
   "execution_count": 40,
   "metadata": {},
   "outputs": [
    {
     "name": "stdout",
     "output_type": "stream",
     "text": [
      "[(0, 'party', 'TEXT', 0, None, 0), (1, 'night', 'INTEGER', 0, None, 0), (2, 'speaker', 'TEXT', 0, None, 0), (3, 'speaker_count', 'INTEGER', 0, None, 0), (4, 'time', 'TEXT', 0, None, 0), (5, 'text', 'TEXT', 0, None, 0), (6, 'text_len', 'TEXT', 0, None, 0), (7, 'file', 'TEXT', 0, None, 0)]\n",
      "\n",
      "column names for conventions:\n",
      "('party', 'night', 'speaker', 'speaker_count', 'time', 'text', 'text_len', 'file')\n"
     ]
    },
    {
     "data": {
      "text/plain": [
       "[['skip to content the company careers press freelancers blog × services transcription captions foreign subtitles translation freelancers about contact login « return to transcript library home  transcript categories  all transcripts 2020 election transcripts classic speech transcripts congressional testimony  hearing transcripts debate transcripts donald trump transcripts entertainment transcripts financial transcripts interview transcripts political transcripts press conference transcripts speech transcripts sports transcripts technology transcripts aug 21 2020 2020 democratic national convention dnc night 4 transcript rev  ›  blog  ›  transcripts  › 2020 election transcripts  ›  2020 democratic national convention dnc night 4 transcript night 4 of the 2020 democratic national convention dnc on august 20 read the full transcript of the event here transcribe your own content  try rev for free  and save time transcribing captioning and subtitling',\n",
       "  'Democratic'],\n",
       " ['i’m here by calling the full session of the 48th quadrennial national convention of the democratic party to order welcome all to our final session of this historic and memorable convention we’ve called the 48th quadrennial democratic national convention to order',\n",
       "  'Democratic'],\n",
       " ['every four years we come together to reaffirm our democracy this year we’ve come to save it',\n",
       "  'Democratic'],\n",
       " ['we fight for a more perfect union because we are fighting for the soul of this country and for our lives and right now that fight is real',\n",
       "  'Democratic'],\n",
       " ['we must come together to defeat donald trump and elect joe biden and kamala harris as our next president and vice president',\n",
       "  'Democratic']]"
      ]
     },
     "execution_count": 40,
     "metadata": {},
     "output_type": "execute_result"
    }
   ],
   "source": [
    "convention_data = []\n",
    "\n",
    "# fill this list up with items that are themselves lists. The \n",
    "# first element in the sublist should be the cleaned and tokenized\n",
    "# text in a single string. The second element should be the party. \n",
    "\n",
    "#query_results = convention_cur.execute(\"SELECT name FROM sqlite_master WHERE type='table';\")\n",
    "\n",
    "#query_results=convention_cur.execute('SELECT * FROM conventions')\n",
    "convention_cur.execute('SELECT * FROM conventions')\n",
    "query_results=convention_cur.fetchall()\n",
    "\n",
    "### Get Data Structure and Column Names\n",
    "\n",
    "result = convention_cur.execute(\"PRAGMA table_info('%s')\" % 'conventions').fetchall()\n",
    "print(result)\n",
    "column_names = list(zip(*result))[1]\n",
    "print ((\"\\ncolumn names for %s:\" % 'conventions'))\n",
    "print(column_names)\n",
    "\n",
    "### Use Column Names and Import Data to a List then a DataFrame for Easier Editing, then back to a list\n",
    "\n",
    "for row in query_results:\n",
    "    # store the results in convention_data\n",
    "    convention_data.append(list(row))\n",
    "    #pass # remove this\n",
    "convention_data_db = pd.DataFrame(convention_data, columns = ['party', 'night', 'speaker', 'speaker_count', \n",
    "                                                           'time', 'text', 'text_len', 'file'])\n",
    "convention_data_db2 = pd.DataFrame(convention_data_db, columns = ['text', 'party'])\n",
    "convention_data = convention_data_db2.values.tolist()\n",
    "\n",
    "### Apply Basic Tokenization and Cleaning using Pythonic list Comprehension\n",
    "\n",
    "convention_data = [[t.translate(str.maketrans('', '', string.punctuation)),p] for t, p in convention_data]\n",
    "convention_data = [[t.lower(),p] for t, p in convention_data]\n",
    "convention_data[0:5]"
   ]
  },
  {
   "cell_type": "markdown",
   "metadata": {},
   "source": [
    "Let's look at some random entries and see if they look right. "
   ]
  },
  {
   "cell_type": "code",
   "execution_count": 41,
   "metadata": {},
   "outputs": [
    {
     "data": {
      "text/plain": [
       "[['congratulations you’re now citizens of the united states of america on behalf of the department of homeland security it is my honor to call you my fellow americans mr president i want to again commend you for your dedication to the rule of law and for restoring integrity to our immigration system thank you for hosting such a patriotic celebration here at the white house today',\n",
       "  'Republican'],\n",
       " ['i’m pleased to announce that vice president joe biden has officially been nominated by the democratic party as our candidate for president of the united states',\n",
       "  'Democratic'],\n",
       " ['every generation before us has had to fight for what they believe in and it’s just our turn now jack g  010203   i was proud when i saw the demonstrations that were going on across the country',\n",
       "  'Democratic'],\n",
       " ['joe biden has selected kamala harris as his running mate', 'Democratic'],\n",
       " ['american history tells us that’s been in our darkest moments that we’ve made our greatest progress that we found the light in this dark moment i believe we’re poised to make great progress again and we can find the light once more',\n",
       "  'Democratic'],\n",
       " ['and when i’m reelected the best is yet to come thank you very much when i took office the middle east was in total chaos isis was rampaging iran was on the rise and the war in afghanistan had no end in sight',\n",
       "  'Republican'],\n",
       " ['i’m rebecca friedrichs a veteran california public school educator i’m here to give voice to america’s great teachers because our voices have been silenced for decades by unions who claim to represent us they do not when other dedicated teachers and i served within the unions we spoke up in defense of children parents scientific fact and american values for our trouble we were brutalized booed off the platform barred from committees shouted down and even spit upon by union leaders this is how unions treat devoted teachers but what’s even worse is how their agenda of control deceives americans and our children they’ve intentionally rewritten american history to perpetuate division pervert the memories of our american founders and disparage our judeochristian virtues they’re lenient discipline policies morphed our schools into war zones and they back defunding police and abolishing ice unions collect billions annually from unsuspecting teachers and push this radical agenda into our classrooms against our will why',\n",
       "  'Republican'],\n",
       " ['she gave 100 from her energy to the students she’s a great teacher',\n",
       "  'Democratic'],\n",
       " ['team usa will indeed take home the gold', 'Republican'],\n",
       " ['skip to content the company careers press freelancers blog × services transcription captions foreign subtitles translation freelancers about contact login « return to transcript library home  transcript categories  all transcripts 2020 election transcripts classic speech transcripts congressional testimony  hearing transcripts debate transcripts donald trump transcripts entertainment transcripts financial transcripts interview transcripts political transcripts press conference transcripts speech transcripts sports transcripts technology transcripts aug 19 2020 democratic national convention dnc 2020 night 3 transcript speeches by barack obama kamala harris hillary clinton nancy pelosi  more rev  ›  blog  › transcripts  ›  2020 election transcripts  ›  democratic national convention dnc 2020 night 3 transcript speeches by barack obama kamala harris hillary clinton nancy pelosi  more night 3 of the 2020 democratic national convention dnc on august 19 speakers include sen and vicepresidential nominee kamala harris former sec of state and democratic nominee hillary clinton house speaker nancy pelosi sen elizabeth warren and former president barack obama read the full transcript of the event here transcribe your own content try rev for free  and save time transcribing captioning and subtitling',\n",
       "  'Democratic']]"
      ]
     },
     "execution_count": 41,
     "metadata": {},
     "output_type": "execute_result"
    }
   ],
   "source": [
    "random.choices(convention_data,k=10)"
   ]
  },
  {
   "cell_type": "markdown",
   "metadata": {},
   "source": [
    "If that looks good, we now need to make our function to turn these into features. In my solution, I wanted to keep the number of features reasonable, so I only used words that occur at least `word_cutoff` times. Here's the code to test that if you want it. "
   ]
  },
  {
   "cell_type": "code",
   "execution_count": 42,
   "metadata": {},
   "outputs": [
    {
     "name": "stdout",
     "output_type": "stream",
     "text": [
      "['skip', 'to', 'content', 'the', 'company']\n",
      "With a word cutoff of 5, we have 2514 features in the model.\n"
     ]
    }
   ],
   "source": [
    "word_cutoff = 5\n",
    "\n",
    "tokens = [w for t, p in convention_data for w in t.split()]\n",
    "print(tokens[0:5])\n",
    "\n",
    "word_dist = nltk.FreqDist(tokens)\n",
    "\n",
    "#for w, c in word_dist.items():\n",
    "#    print(w, c)\n",
    "\n",
    "feature_words = set()\n",
    "\n",
    "for word, count in word_dist.items() :\n",
    "    if count > word_cutoff :\n",
    "        feature_words.add(word)\n",
    "        \n",
    "print(f\"With a word cutoff of {word_cutoff}, we have {len(feature_words)} features in the model.\")"
   ]
  },
  {
   "cell_type": "code",
   "execution_count": 43,
   "metadata": {},
   "outputs": [],
   "source": [
    "#def conv_features(text,fw) :\n",
    "\"\"\"\n",
    "Given some text, this returns a dictionary holding the\n",
    "       feature words.\n",
    "       \n",
    "       Args: \n",
    "            * text: a piece of text in a continuous string. Assumes\n",
    "            text has been cleaned and case folded.\n",
    "            * fw: the *feature words* that we're considering. A word \n",
    "            in `text` must be in fw in order to be returned. This \n",
    "            prevents us from considering very rarely occurring words.\n",
    "        \n",
    "       Returns: \n",
    "            A dictionary with the words in `text` that appear in `fw`. \n",
    "            Words are only counted once. \n",
    "            If `text` were \"quick quick brown fox\" and `fw` = {'quick','fox','jumps'},\n",
    "            then this would return a dictionary of \n",
    "            {'quick' : True,\n",
    "             'fox' :    True}  \n",
    "\"\"\"\n",
    "\n",
    "# Your code here\n",
    "# ret_dict = dict()\n",
    "# tokenize each piece of text into text_tokens\n",
    "# for token in text_tokens if in fw:\n",
    "# add token and True to a dictionary\n",
    "# return(ret_dict)\n",
    "\n",
    "sw = stopwords.words([\"english\"])\n",
    "def conv_features(text,fw):\n",
    "    #ret_list = []\n",
    "    ret_dict = dict()\n",
    "    #text = text.translate(str.maketrans('', '', string.punctuation))\n",
    "    #text = text.lower()\n",
    "    text = [text for text in text.split() if text not in (set(sw))]\n",
    "    \n",
    "    for token in fw:\n",
    "        if token in text:\n",
    "            ret_dict.update({token: 1})\n",
    "        else:\n",
    "            ret_dict.update({token: 0})\n",
    "\n",
    "    return(ret_dict)"
   ]
  },
  {
   "cell_type": "markdown",
   "metadata": {},
   "source": [
    "## Confirm Vector of Features (disable for printing)"
   ]
  },
  {
   "cell_type": "code",
   "execution_count": 44,
   "metadata": {},
   "outputs": [],
   "source": [
    "#conv_features(\"donald is the president\", feature_words)"
   ]
  },
  {
   "cell_type": "code",
   "execution_count": 45,
   "metadata": {},
   "outputs": [],
   "source": [
    "#assert(len(feature_words)>0)\n",
    "#assert(conv_features(\"donald is the president\",feature_words)==\n",
    "#       {'donald':True,'president':True})\n",
    "#assert(conv_features(\"people are american in america\",feature_words)==\n",
    "#                     {'america':True,'american':True,\"people\":True})"
   ]
  },
  {
   "cell_type": "markdown",
   "metadata": {},
   "source": [
    "Now we'll build our feature set. Out of curiosity I did a train/test split to see how accurate the classifier was, but we don't strictly need to since this analysis is exploratory. "
   ]
  },
  {
   "cell_type": "code",
   "execution_count": 46,
   "metadata": {},
   "outputs": [],
   "source": [
    "featuresets = [(conv_features(text,feature_words), party) for (text, party) in convention_data]"
   ]
  },
  {
   "cell_type": "code",
   "execution_count": 47,
   "metadata": {},
   "outputs": [],
   "source": [
    "#random.seed(20220507)\n",
    "random.seed(84)\n",
    "random.shuffle(featuresets)\n",
    "\n",
    "test_size = 500"
   ]
  },
  {
   "cell_type": "code",
   "execution_count": 48,
   "metadata": {},
   "outputs": [
    {
     "name": "stdout",
     "output_type": "stream",
     "text": [
      "['Democratic', 'Republican']\n",
      "0.736\n"
     ]
    }
   ],
   "source": [
    "test_set, train_set = featuresets[:test_size], featuresets[test_size:]\n",
    "classifier = nltk.NaiveBayesClassifier.train(train_set)\n",
    "print(sorted(classifier.labels()))\n",
    "#print(classifier.labels())\n",
    "print(nltk.classify.accuracy(classifier, test_set))"
   ]
  },
  {
   "cell_type": "code",
   "execution_count": 49,
   "metadata": {},
   "outputs": [
    {
     "name": "stdout",
     "output_type": "stream",
     "text": [
      "['Republican', 'Democratic']\n"
     ]
    }
   ],
   "source": [
    "print(classifier.labels())"
   ]
  },
  {
   "cell_type": "code",
   "execution_count": 50,
   "metadata": {},
   "outputs": [
    {
     "name": "stdout",
     "output_type": "stream",
     "text": [
      "Most Informative Features\n",
      "             enforcement = 1              Republ : Democr =     37.3 : 1.0\n",
      "                   votes = 1              Democr : Republ =     24.6 : 1.0\n",
      "                   china = 1              Republ : Democr =     19.5 : 1.0\n",
      "                freedoms = 1              Republ : Democr =     17.9 : 1.0\n",
      "                   media = 1              Republ : Democr =     16.0 : 1.0\n",
      "                 destroy = 1              Republ : Democr =     14.8 : 1.0\n",
      "                 amazing = 1              Republ : Democr =     13.8 : 1.0\n",
      "              appreciate = 1              Republ : Democr =     13.8 : 1.0\n",
      "                  defund = 1              Republ : Democr =     13.8 : 1.0\n",
      "                supports = 1              Republ : Democr =     13.8 : 1.0\n",
      "                   trade = 1              Republ : Democr =     13.3 : 1.0\n",
      "                 chinese = 1              Republ : Democr =     12.8 : 1.0\n",
      "                  lowest = 1              Republ : Democr =     12.8 : 1.0\n",
      "                    mike = 1              Republ : Democr =     12.6 : 1.0\n",
      "                  cities = 1              Republ : Democr =     12.5 : 1.0\n",
      "                 defense = 1              Republ : Democr =     11.7 : 1.0\n",
      "                  earned = 1              Republ : Democr =     11.7 : 1.0\n",
      "                    rate = 1              Republ : Democr =     11.7 : 1.0\n",
      "                   taxes = 1              Republ : Democr =     11.6 : 1.0\n",
      "                 beliefs = 1              Republ : Democr =     10.7 : 1.0\n",
      "           determination = 1              Republ : Democr =     10.7 : 1.0\n",
      "                hispanic = 1              Republ : Democr =     10.7 : 1.0\n",
      "                    iran = 1              Republ : Democr =     10.7 : 1.0\n",
      "               religious = 1              Republ : Democr =     10.7 : 1.0\n",
      "               amendment = 1              Republ : Democr =     10.1 : 1.0\n",
      "                  prison = 1              Republ : Democr =     10.1 : 1.0\n",
      "                 freedom = 1              Republ : Democr =     10.0 : 1.0\n",
      "                    2018 = 1              Republ : Democr =      9.7 : 1.0\n",
      "                      25 = 1              Republ : Democr =      9.7 : 1.0\n",
      "                 abraham = 1              Republ : Democr =      9.7 : 1.0\n",
      "                   armed = 1              Republ : Democr =      9.7 : 1.0\n",
      "                greatest = 1              Republ : Democr =      9.7 : 1.0\n",
      "            organization = 1              Republ : Democr =      9.7 : 1.0\n",
      "                 pledged = 1              Republ : Democr =      9.7 : 1.0\n",
      "               potential = 1              Republ : Democr =      9.7 : 1.0\n",
      "                 release = 1              Republ : Democr =      9.7 : 1.0\n",
      "                     sen = 1              Republ : Democr =      9.7 : 1.0\n",
      "                 violent = 1              Republ : Democr =      9.7 : 1.0\n",
      "                grateful = 1              Republ : Democr =      9.0 : 1.0\n",
      "                   crime = 1              Republ : Democr =      8.9 : 1.0\n",
      "                  reform = 1              Republ : Democr =      8.9 : 1.0\n",
      "               defunding = 1              Republ : Democr =      8.7 : 1.0\n",
      "              delivering = 1              Republ : Democr =      8.7 : 1.0\n",
      "             development = 1              Republ : Democr =      8.7 : 1.0\n",
      "                    goal = 1              Republ : Democr =      8.7 : 1.0\n",
      "            independence = 1              Republ : Democr =      8.7 : 1.0\n",
      "                 limited = 1              Republ : Democr =      8.7 : 1.0\n",
      "                 numbers = 1              Republ : Democr =      8.7 : 1.0\n",
      "                patients = 1              Republ : Democr =      8.7 : 1.0\n",
      "               volunteer = 1              Republ : Democr =      8.7 : 1.0\n",
      "               wonderful = 1              Republ : Democr =      8.7 : 1.0\n",
      "              incredible = 1              Republ : Democr =      8.3 : 1.0\n",
      "                received = 1              Republ : Democr =      8.3 : 1.0\n",
      "                 results = 1              Republ : Democr =      8.3 : 1.0\n",
      "                 african = 1              Republ : Democr =      7.7 : 1.0\n",
      "                    army = 1              Republ : Democr =      7.7 : 1.0\n",
      "                arrested = 1              Republ : Democr =      7.7 : 1.0\n",
      "               criminals = 1              Republ : Democr =      7.7 : 1.0\n",
      "                    cuts = 1              Republ : Democr =      7.7 : 1.0\n",
      "                     fbi = 1              Republ : Democr =      7.7 : 1.0\n",
      "                     jon = 1              Republ : Democr =      7.7 : 1.0\n",
      "                  judges = 1              Republ : Democr =      7.7 : 1.0\n",
      "                    kill = 1              Republ : Democr =      7.7 : 1.0\n",
      "                 miracle = 1              Republ : Democr =      7.7 : 1.0\n",
      "                   moved = 1              Republ : Democr =      7.7 : 1.0\n",
      "                 officer = 1              Republ : Democr =      7.7 : 1.0\n",
      "                religion = 1              Republ : Democr =      7.7 : 1.0\n",
      "                soldiers = 1              Republ : Democr =      7.7 : 1.0\n",
      "                 supreme = 1              Republ : Democr =      7.7 : 1.0\n",
      "               terrorist = 1              Republ : Democr =      7.7 : 1.0\n",
      "              tirelessly = 1              Republ : Democr =      7.7 : 1.0\n",
      "                  unborn = 1              Republ : Democr =      7.7 : 1.0\n",
      "                    wall = 1              Republ : Democr =      7.7 : 1.0\n",
      "                  choice = 1              Republ : Democr =      7.7 : 1.0\n",
      "                    flag = 1              Republ : Democr =      7.7 : 1.0\n",
      "                  record = 1              Republ : Democr =      7.7 : 1.0\n",
      "                 special = 1              Republ : Democr =      7.7 : 1.0\n",
      "                   lewis = 1              Democr : Republ =      7.6 : 1.0\n",
      "                    cast = 1              Democr : Republ =      7.4 : 1.0\n",
      "                    kept = 1              Republ : Democr =      7.3 : 1.0\n",
      "                  heroes = 1              Republ : Democr =      7.2 : 1.0\n",
      "                  police = 1              Republ : Democr =      7.2 : 1.0\n",
      "               greatness = 1              Republ : Democr =      7.2 : 1.0\n",
      "                officers = 1              Republ : Democr =      7.2 : 1.0\n",
      "                 liberal = 1              Republ : Democr =      7.0 : 1.0\n",
      "                patriots = 1              Republ : Democr =      7.0 : 1.0\n",
      "                 success = 1              Republ : Democr =      7.0 : 1.0\n",
      "                 climate = 1              Democr : Republ =      7.0 : 1.0\n",
      "                       j = 1              Republ : Democr =      6.8 : 1.0\n",
      "                   allow = 1              Republ : Democr =      6.8 : 1.0\n",
      "                 decency = 1              Democr : Republ =      6.7 : 1.0\n",
      "                  kamala = 1              Democr : Republ =      6.7 : 1.0\n",
      "             bidenharris = 1              Republ : Democr =      6.6 : 1.0\n",
      "                  bought = 1              Republ : Democr =      6.6 : 1.0\n",
      "                   claim = 1              Republ : Democr =      6.6 : 1.0\n",
      "               commander = 1              Republ : Democr =      6.6 : 1.0\n",
      "              completely = 1              Republ : Democr =      6.6 : 1.0\n",
      "            construction = 1              Republ : Democr =      6.6 : 1.0\n",
      "                   count = 1              Republ : Democr =      6.6 : 1.0\n",
      "                 culture = 1              Republ : Democr =      6.6 : 1.0\n"
     ]
    }
   ],
   "source": [
    "classifier.show_most_informative_features(100)"
   ]
  },
  {
   "cell_type": "markdown",
   "metadata": {},
   "source": [
    "Write a little prose here about what you see in the classifier. Anything odd or interesting?\n",
    "\n",
    "### My Observations\n",
    "\n",
    "Republicans are more likely to use certain words more often than Democrats.  I suspect that this is due to Republicans staying on talking points more than Democrats, as well as Republicans attempting to use similar langauge as Donald Trump to appeal to the base.  \"Media, destroy, amazing, defund, trade, mike, defense\" and so on are words I would expect to see used more by Republicans.  I am a bit suprised at so few words used more by Democrats in the top 20-30 except \"votes\"."
   ]
  },
  {
   "cell_type": "markdown",
   "metadata": {},
   "source": [
    "## Part 2: Classifying Congressional Tweets\n",
    "\n",
    "In this part we apply the classifer we just built to a set of tweets by people running for congress\n",
    "in 2018. These tweets are stored in the database `congressional_data.db`. That DB is funky, so I'll\n",
    "give you the query I used to pull out the tweets. Note that this DB has some big tables and \n",
    "is unindexed, so the query takes a minute or two to run on my machine."
   ]
  },
  {
   "cell_type": "code",
   "execution_count": 51,
   "metadata": {},
   "outputs": [],
   "source": [
    "cong_db = sqlite3.connect(\"C:/Users/drzag/pol_class/congressional_data.db\")\n",
    "cong_cur = cong_db.cursor()"
   ]
  },
  {
   "cell_type": "code",
   "execution_count": 52,
   "metadata": {},
   "outputs": [],
   "source": [
    "results = cong_cur.execute(\n",
    "        '''\n",
    "           SELECT DISTINCT \n",
    "                  cd.candidate, \n",
    "                  cd.party,\n",
    "                  tw.tweet_text\n",
    "           FROM candidate_data cd \n",
    "           INNER JOIN tweets tw ON cd.twitter_handle = tw.handle \n",
    "               AND cd.candidate == tw.candidate \n",
    "               AND cd.district == tw.district\n",
    "           WHERE cd.party in ('Republican','Democratic') \n",
    "               AND tw.tweet_text NOT LIKE '%RT%'\n",
    "        ''')\n",
    "\n",
    "#results = list(results) # Just to store it, since the query is time consuming\n",
    "#for line in results:\n",
    "#    for values in line:\n",
    "#        values = values.decode('utf-8')\n",
    "\n",
    "def d_code(x):\n",
    "    x = x.decode()\n",
    "    return x\n",
    "\n",
    "results_db = pd.DataFrame(results, columns = ['candidate', 'party', 'text'])\n",
    "results_db = pd.DataFrame(results_db, columns = ['text', 'party'])\n",
    "results_db['text'] = results_db['text'].apply(d_code)"
   ]
  },
  {
   "cell_type": "code",
   "execution_count": 53,
   "metadata": {},
   "outputs": [
    {
     "data": {
      "text/html": [
       "<div>\n",
       "<style scoped>\n",
       "    .dataframe tbody tr th:only-of-type {\n",
       "        vertical-align: middle;\n",
       "    }\n",
       "\n",
       "    .dataframe tbody tr th {\n",
       "        vertical-align: top;\n",
       "    }\n",
       "\n",
       "    .dataframe thead th {\n",
       "        text-align: right;\n",
       "    }\n",
       "</style>\n",
       "<table border=\"1\" class=\"dataframe\">\n",
       "  <thead>\n",
       "    <tr style=\"text-align: right;\">\n",
       "      <th></th>\n",
       "      <th>text</th>\n",
       "      <th>party</th>\n",
       "    </tr>\n",
       "  </thead>\n",
       "  <tbody>\n",
       "    <tr>\n",
       "      <th>664651</th>\n",
       "      <td>We had a great time at the WVU Homecoming para...</td>\n",
       "      <td>Republican</td>\n",
       "    </tr>\n",
       "    <tr>\n",
       "      <th>664652</th>\n",
       "      <td>We need more transparency in Washington #wvpol...</td>\n",
       "      <td>Republican</td>\n",
       "    </tr>\n",
       "    <tr>\n",
       "      <th>664653</th>\n",
       "      <td>We saw there is a double standard in DC and th...</td>\n",
       "      <td>Republican</td>\n",
       "    </tr>\n",
       "    <tr>\n",
       "      <th>664654</th>\n",
       "      <td>Wow! Huge crowd in Charleston at the @WVGOP vi...</td>\n",
       "      <td>Republican</td>\n",
       "    </tr>\n",
       "    <tr>\n",
       "      <th>664655</th>\n",
       "      <td>https://t.co/0QmZlRfEcD https://t.co/FY520NC2GB</td>\n",
       "      <td>Republican</td>\n",
       "    </tr>\n",
       "  </tbody>\n",
       "</table>\n",
       "</div>"
      ],
      "text/plain": [
       "                                                     text       party\n",
       "664651  We had a great time at the WVU Homecoming para...  Republican\n",
       "664652  We need more transparency in Washington #wvpol...  Republican\n",
       "664653  We saw there is a double standard in DC and th...  Republican\n",
       "664654  Wow! Huge crowd in Charleston at the @WVGOP vi...  Republican\n",
       "664655    https://t.co/0QmZlRfEcD https://t.co/FY520NC2GB  Republican"
      ]
     },
     "execution_count": 53,
     "metadata": {},
     "output_type": "execute_result"
    }
   ],
   "source": [
    "results_db.tail(5)"
   ]
  },
  {
   "cell_type": "code",
   "execution_count": 54,
   "metadata": {},
   "outputs": [],
   "source": [
    "tweet_data = []\n",
    "\n",
    "tweet_data = results_db.values.tolist()\n",
    "#Apply tokenization and cleaning using Pythonic list comprehension\n",
    "\n",
    "def custom_clean(x):\n",
    "    x = [[t.lower(), p] for t, p in x]\n",
    "    x = [[t.translate(str.maketrans('', '', string.punctuation)), p] for t, p in x]\n",
    "    x = [[(html.unescape(t)), p] for t, p in x]   # convert html escapes like &amp; to characters.\n",
    "    x = [[re.sub(r'<[^<>]*>', ' ', t), p] for t, p in x]   # tags like <tab>\n",
    "    x = [[re.sub(r'\\[([^\\[\\]]*)\\]\\([^\\(\\)]*\\)', r'\\1', t), p] for t, p in x] # markdown URLs like [Some text](https://....)\n",
    "    x = [[re.sub(r'\\[[^\\[\\]]*\\]', ' ', t), p] for t, p in x] # text or code in brackets like [0]\n",
    "    x = [[re.sub(r'(?:^|\\s)[&#<>{}\\[\\]+|\\\\:-]{1,}(?:\\s|$)', ' ', t), p] for t, p in x] # standalone sequences of specials, matches &# but not #cool\n",
    "    x = [[re.sub(r'(?:^|\\s)[\\-=\\+]{2,}(?:\\s|$)', ' ', t), p] for t, p in x] # standalone sequences of hyphens like --- or ==\n",
    "    x = [[re.sub(r'\\s+', ' ', t), p] for t, p in x] # sequences of white spaces\n",
    "    return x\n",
    "\n",
    "def only_words(x):\n",
    "    x = [[re.sub(r'http\\S+', '', t), p] for t, p in x]  # delete URLs\n",
    "    x = [[re.sub('[^a-z\\s]', '', t.lower()), p] for t, p in x]\n",
    "    return x\n",
    "    \n",
    "            \n",
    "# Now fill up tweet_data with sublists like we did on the convention speeches.\n",
    "# Note that this may take a bit of time, since we have a lot of tweets."
   ]
  },
  {
   "cell_type": "code",
   "execution_count": 55,
   "metadata": {},
   "outputs": [],
   "source": [
    "tweet_data = custom_clean(tweet_data)"
   ]
  },
  {
   "cell_type": "code",
   "execution_count": 56,
   "metadata": {},
   "outputs": [],
   "source": [
    "random.seed(42)\n",
    "random.shuffle(tweet_data)"
   ]
  },
  {
   "cell_type": "code",
   "execution_count": 57,
   "metadata": {},
   "outputs": [],
   "source": [
    "tweet_data_ow = only_words(tweet_data)"
   ]
  },
  {
   "cell_type": "code",
   "execution_count": 58,
   "metadata": {},
   "outputs": [],
   "source": [
    "random.seed(42)\n",
    "random.shuffle(tweet_data_ow)"
   ]
  },
  {
   "cell_type": "code",
   "execution_count": 59,
   "metadata": {},
   "outputs": [
    {
     "name": "stdout",
     "output_type": "stream",
     "text": [
      "With a word cutoff of 50, we have 417 features in the model.\n"
     ]
    }
   ],
   "source": [
    "word_cutoff = 50\n",
    "\n",
    "tokens = [w for t, p in tweet_data_ow for w in t.split()]\n",
    "\n",
    "#word_dist = nltk.FreqDist(tokens)\n",
    "#for w, c in word_dist.items():\n",
    "#    print(w, c)\n",
    "\n",
    "feature_words = set()\n",
    "\n",
    "for word, count in word_dist.items() :\n",
    "    if count > word_cutoff :\n",
    "        feature_words.add(word)\n",
    "        \n",
    "print(f\"With a word cutoff of {word_cutoff}, we have {len(feature_words)} features in the model.\")"
   ]
  },
  {
   "cell_type": "code",
   "execution_count": 60,
   "metadata": {},
   "outputs": [],
   "source": [
    "sw = stopwords.words([\"english\"])\n",
    "def conv_features(text,fw):\n",
    "    #ret_list = []\n",
    "    ret_dict = dict()\n",
    "    #text = text.translate(str.maketrans('', '', string.punctuation))\n",
    "    #text = text.lower()\n",
    "    text = [text for text in text.split() if text not in (set(sw))]\n",
    "    \n",
    "    for token in fw:\n",
    "        if token in text:\n",
    "            ret_dict.update({token: 1})\n",
    "        else:\n",
    "            ret_dict.update({token: 0})\n",
    "\n",
    "    return(ret_dict)\n",
    "\n",
    "#conv_features(\"donald is the president\", feature_words)"
   ]
  },
  {
   "cell_type": "markdown",
   "metadata": {},
   "source": [
    "There are a lot of tweets here. Let's take a random sample and see how our classifer does. I'm guessing it won't be too great given the performance on the convention speeches..."
   ]
  },
  {
   "cell_type": "code",
   "execution_count": 61,
   "metadata": {},
   "outputs": [
    {
     "data": {
      "text/plain": [
       "[['angietheo will do', 'Republican'],\n",
       " ['as someone who uses the house gym i can confirm that this is the last thing anyone should be worrying about when we need to pass a responsible budgets that reauthorizes chip and protects dreamers ',\n",
       "  'Democratic'],\n",
       " ['you lost the privilege of a civil conversation when you made false claims about me paying protestors harassed my campaign director and wished for more severe violence against me theres school in the morning isnt it past your bedtime ',\n",
       "  'Republican'],\n",
       " ['williamsnowhume not my father', 'Democratic'],\n",
       " ['celebrating internationalwomensday with the womens leadership network at microntech ',\n",
       "  'Democratic'],\n",
       " ['wall ', 'Republican'],\n",
       " ['imscotte thank you scott', 'Democratic'],\n",
       " ['we now know where  billion of drnealdunnfl s  trillion wet kiss of tax cuts for corporations and the wealthiest has gone not jobs or growth in district  ',\n",
       "  'Democratic'],\n",
       " ['yes we should ', 'Republican'],\n",
       " ['this one chocolate w reeses cups all over it super yummie galenaparkisd txlege ',\n",
       "  'Democratic']]"
      ]
     },
     "execution_count": 61,
     "metadata": {},
     "output_type": "execute_result"
    }
   ],
   "source": [
    "random.seed(20201014)\n",
    "\n",
    "tweet_data_sample = random.choices(tweet_data_ow,k=10)\n",
    "tweet_data_sample"
   ]
  },
  {
   "cell_type": "markdown",
   "metadata": {},
   "source": [
    "### Convert the Sample Tweets to Dictionary Features and Create Two New Lists to Iterate Over"
   ]
  },
  {
   "cell_type": "code",
   "execution_count": 62,
   "metadata": {},
   "outputs": [],
   "source": [
    "tweet_data_sample_dict = [(conv_features(tweet,feature_words), party) for (tweet, party) in tweet_data_sample]\n",
    "tweet_data_sample_both = [(conv_features(tweet,feature_words), tweet, party) for (tweet, party) in tweet_data_sample]"
   ]
  },
  {
   "cell_type": "code",
   "execution_count": 63,
   "metadata": {},
   "outputs": [],
   "source": [
    "#random.seed(20220507)\n",
    "\n",
    "#random.seed(84)\n",
    "#random.shuffle(featuresets)\n",
    "\n",
    "#test_size = 500"
   ]
  },
  {
   "cell_type": "code",
   "execution_count": 64,
   "metadata": {},
   "outputs": [],
   "source": [
    "#test_set, train_set = featuresets[:test_size], featuresets[test_size:]\n",
    "#classifier = nltk.NaiveBayesClassifier.train(train_set)\n",
    "#print(sorted(classifier.labels()))\n",
    "#print(nltk.classify.accuracy(classifier, test_set))"
   ]
  },
  {
   "cell_type": "code",
   "execution_count": 65,
   "metadata": {},
   "outputs": [
    {
     "name": "stdout",
     "output_type": "stream",
     "text": [
      "0.6\n"
     ]
    }
   ],
   "source": [
    "print(nltk.classify.accuracy(classifier, tweet_data_sample_dict))"
   ]
  },
  {
   "cell_type": "code",
   "execution_count": 66,
   "metadata": {},
   "outputs": [
    {
     "name": "stdout",
     "output_type": "stream",
     "text": [
      "Democratic Republican\n",
      "Democratic Democratic\n",
      "Democratic Republican\n",
      "Democratic Democratic\n",
      "Democratic Democratic\n",
      "Democratic Republican\n",
      "Democratic Democratic\n",
      "Democratic Democratic\n",
      "Democratic Republican\n",
      "Democratic Democratic\n"
     ]
    }
   ],
   "source": [
    "for dict_tweet, party in tweet_data_sample_dict:\n",
    "    print(classifier.classify(dict_tweet), party)"
   ]
  },
  {
   "cell_type": "code",
   "execution_count": 67,
   "metadata": {},
   "outputs": [
    {
     "name": "stdout",
     "output_type": "stream",
     "text": [
      "Here's our (cleaned) tweet: angietheo will do\n",
      "Actual party is Republican and our classifer says Democratic.\n",
      "\n",
      "Here's our (cleaned) tweet: as someone who uses the house gym i can confirm that this is the last thing anyone should be worrying about when we need to pass a responsible budgets that reauthorizes chip and protects dreamers \n",
      "Actual party is Democratic and our classifer says Democratic.\n",
      "\n",
      "Here's our (cleaned) tweet: you lost the privilege of a civil conversation when you made false claims about me paying protestors harassed my campaign director and wished for more severe violence against me theres school in the morning isnt it past your bedtime \n",
      "Actual party is Republican and our classifer says Democratic.\n",
      "\n",
      "Here's our (cleaned) tweet: williamsnowhume not my father\n",
      "Actual party is Democratic and our classifer says Democratic.\n",
      "\n",
      "Here's our (cleaned) tweet: celebrating internationalwomensday with the womens leadership network at microntech \n",
      "Actual party is Democratic and our classifer says Democratic.\n",
      "\n",
      "Here's our (cleaned) tweet: wall \n",
      "Actual party is Republican and our classifer says Democratic.\n",
      "\n",
      "Here's our (cleaned) tweet: imscotte thank you scott\n",
      "Actual party is Democratic and our classifer says Democratic.\n",
      "\n",
      "Here's our (cleaned) tweet: we now know where  billion of drnealdunnfl s  trillion wet kiss of tax cuts for corporations and the wealthiest has gone not jobs or growth in district  \n",
      "Actual party is Democratic and our classifer says Democratic.\n",
      "\n",
      "Here's our (cleaned) tweet: yes we should \n",
      "Actual party is Republican and our classifer says Democratic.\n",
      "\n",
      "Here's our (cleaned) tweet: this one chocolate w reeses cups all over it super yummie galenaparkisd txlege \n",
      "Actual party is Democratic and our classifer says Democratic.\n",
      "\n"
     ]
    }
   ],
   "source": [
    "for dict_tweet, tweet, party in tweet_data_sample_both:\n",
    "    estimated_party = classifier.classify(dict_tweet)\n",
    "    # Fill in the right-hand side above with code that estimates the actual party\n",
    "    \n",
    "    print(f\"Here's our (cleaned) tweet: {tweet}\")\n",
    "    print(f\"Actual party is {party} and our classifer says {estimated_party}.\")\n",
    "    print(\"\")\n",
    "    "
   ]
  },
  {
   "cell_type": "markdown",
   "metadata": {},
   "source": [
    "Now that we've looked at it some, let's score a bunch and see how we're doing."
   ]
  },
  {
   "cell_type": "code",
   "execution_count": 68,
   "metadata": {},
   "outputs": [
    {
     "name": "stdout",
     "output_type": "stream",
     "text": [
      "defaultdict(<function <lambda> at 0x0000017E76F0B8B0>, {'Republican': defaultdict(<class 'int'>, {'Republican': 0})})\n",
      "defaultdict(<function <lambda> at 0x0000017E76F0B8B0>, {'Republican': defaultdict(<class 'int'>, {'Republican': 0, 'Democratic': 0})})\n",
      "defaultdict(<function <lambda> at 0x0000017E76F0B8B0>, {'Republican': defaultdict(<class 'int'>, {'Republican': 0, 'Democratic': 0}), 'Democratic': defaultdict(<class 'int'>, {'Republican': 0})})\n",
      "defaultdict(<function <lambda> at 0x0000017E76F0B8B0>, {'Republican': defaultdict(<class 'int'>, {'Republican': 0, 'Democratic': 0}), 'Democratic': defaultdict(<class 'int'>, {'Republican': 0, 'Democratic': 0})})\n"
     ]
    }
   ],
   "source": [
    "# print(tweet)\n",
    "# dictionary of counts by actual party and estimated party. \n",
    "# first key is actual, second is estimated\n",
    "parties = ['Republican','Democratic']\n",
    "results = defaultdict(lambda: defaultdict(int))\n",
    "\n",
    "for p in parties :\n",
    "    for p1 in parties :\n",
    "        results[p][p1] = 0\n",
    "        print(results)\n",
    "\n",
    "num_to_score = 10000\n",
    "random.shuffle(tweet_data)\n",
    "\n",
    "for idx, tp in enumerate(tweet_data) :\n",
    "    #print(idx, tp)\n",
    "    tweet, party = tp\n",
    "    # Now do the same thing as above, but we store the results rather\n",
    "    # than printing them. \n",
    "    # get the estimated party\n",
    "    dict_tweet = conv_features(tweet,feature_words)\n",
    "    estimated_party = classifier.classify(dict_tweet)\n",
    "    \n",
    "    results[party][estimated_party] += 1\n",
    "    \n",
    "    if idx > num_to_score : \n",
    "        break"
   ]
  },
  {
   "cell_type": "code",
   "execution_count": 69,
   "metadata": {},
   "outputs": [
    {
     "data": {
      "text/plain": [
       "defaultdict(<function __main__.<lambda>()>,\n",
       "            {'Republican': defaultdict(int,\n",
       "                         {'Republican': 40, 'Democratic': 4364}),\n",
       "             'Democratic': defaultdict(int,\n",
       "                         {'Republican': 47, 'Democratic': 5551})})"
      ]
     },
     "execution_count": 69,
     "metadata": {},
     "output_type": "execute_result"
    }
   ],
   "source": [
    "results"
   ]
  },
  {
   "cell_type": "markdown",
   "metadata": {},
   "source": [
    "### Reflections\n",
    "\n",
    "Using the model from classification of convention speeches appears to perform poorly when used for tweets.  The model appears to classify about 90% of all tweets as Democratic.  It seems the language used in the convention by Republicans may not represent their langauge in tweets.  We saw that there are many words used by Republicans in the convention setting far more often than Democrats, suggesting more scripted talking point discipline (or imitating Trump langauge) by Republicans.  These ratios appear not to hold up in the \"real world\" of Twitter."
   ]
  },
  {
   "cell_type": "code",
   "execution_count": null,
   "metadata": {},
   "outputs": [],
   "source": []
  },
  {
   "cell_type": "code",
   "execution_count": null,
   "metadata": {},
   "outputs": [],
   "source": []
  }
 ],
 "metadata": {
  "kernelspec": {
   "display_name": "Python 3 (ipykernel)",
   "language": "python",
   "name": "python3"
  },
  "language_info": {
   "codemirror_mode": {
    "name": "ipython",
    "version": 3
   },
   "file_extension": ".py",
   "mimetype": "text/x-python",
   "name": "python",
   "nbconvert_exporter": "python",
   "pygments_lexer": "ipython3",
   "version": "3.9.12"
  }
 },
 "nbformat": 4,
 "nbformat_minor": 4
}
